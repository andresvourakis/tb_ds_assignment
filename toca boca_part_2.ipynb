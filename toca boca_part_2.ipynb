{
 "cells": [
  {
   "cell_type": "markdown",
   "id": "f003f2b0-2cff-4109-ae4e-4db1c359e344",
   "metadata": {},
   "source": [
    "A/B Test Result Analysis (Toca Boca: Part 2)\n",
    "===\n",
    "\n",
    "## Objective\n",
    "Analyse the results of the A/B test for a new feature and provide recommendations for which variant the game should go\n",
    "with and why.\n",
    "\n",
    "## Approach\n",
    "* **Exploratory Data Analysis (EDA):** Explored the results to understand the distribution and key characteristics of the control and treatment groups' revenue data.\n",
    "\n",
    "* **Hypothesis Testing:** Performed an independent samples t-test to compare the means of the control and treatment groups, determining the statistical significance of the observed differences in revenue.\n",
    "\n",
    "* **Effect Size and Confidence Intervals:** Calculated Cohen's d to measure the magnitude of the difference and computed 95% confidence intervals to estimate the range of the true mean differences, providing insights into the practical significance.\n",
    "\n",
    "## Key Findings\n",
    "From these results I determined that although the new feature introduced to group B did influence more users to convert, the impact was very small which implies that although introducing the new feature will make a difference in increasing revenue, it may not make practical sense to do so. \n",
    "\n",
    "## Next Steps\n",
    "\n",
    "- **Consider the business context:** A very small increase in revenue might not justify the costs or efforts of implementing the new feature.\n",
    "- **Look at other metrics:** It would be good to consider other metrics (e.g., user engagement, satisfaction) to get a more comprehensive view of the feature's impact.\n",
    "- **Segment Analysis:** It might be a good idea to segment the users to see if the effect is more pronounced in certain user groups."
   ]
  },
  {
   "cell_type": "markdown",
   "id": "3330c71f-d7a0-418a-90eb-c4358ef28607",
   "metadata": {},
   "source": [
    "# 1. Import"
   ]
  },
  {
   "cell_type": "code",
   "execution_count": 65,
   "id": "124617d4-bf13-4020-88ee-247196b96bce",
   "metadata": {},
   "outputs": [],
   "source": [
    "import pandas as pd\n",
    "import matplotlib.pyplot as plt\n",
    "import seaborn as sns\n",
    "from scipy import stats\n",
    "import numpy as np"
   ]
  },
  {
   "cell_type": "code",
   "execution_count": 8,
   "id": "6be33651-50d8-4b85-a26c-5753feab9b84",
   "metadata": {},
   "outputs": [],
   "source": [
    "results_df = pd.read_csv(\"./ab_test.csv\")"
   ]
  },
  {
   "cell_type": "code",
   "execution_count": 12,
   "id": "3272cb5f-23cb-4741-b6d8-44fb777b1d63",
   "metadata": {},
   "outputs": [
    {
     "data": {
      "text/html": [
       "<div>\n",
       "<style scoped>\n",
       "    .dataframe tbody tr th:only-of-type {\n",
       "        vertical-align: middle;\n",
       "    }\n",
       "\n",
       "    .dataframe tbody tr th {\n",
       "        vertical-align: top;\n",
       "    }\n",
       "\n",
       "    .dataframe thead th {\n",
       "        text-align: right;\n",
       "    }\n",
       "</style>\n",
       "<table border=\"1\" class=\"dataframe\">\n",
       "  <thead>\n",
       "    <tr style=\"text-align: right;\">\n",
       "      <th></th>\n",
       "      <th>id</th>\n",
       "      <th>variant</th>\n",
       "      <th>dt</th>\n",
       "      <th>spend_usd</th>\n",
       "    </tr>\n",
       "  </thead>\n",
       "  <tbody>\n",
       "    <tr>\n",
       "      <th>0</th>\n",
       "      <td>1</td>\n",
       "      <td>A</td>\n",
       "      <td>2020-01-01</td>\n",
       "      <td>0.0</td>\n",
       "    </tr>\n",
       "    <tr>\n",
       "      <th>1</th>\n",
       "      <td>2</td>\n",
       "      <td>A</td>\n",
       "      <td>2020-01-01</td>\n",
       "      <td>0.0</td>\n",
       "    </tr>\n",
       "    <tr>\n",
       "      <th>2</th>\n",
       "      <td>3</td>\n",
       "      <td>A</td>\n",
       "      <td>2020-01-01</td>\n",
       "      <td>0.0</td>\n",
       "    </tr>\n",
       "    <tr>\n",
       "      <th>3</th>\n",
       "      <td>4</td>\n",
       "      <td>A</td>\n",
       "      <td>2020-01-01</td>\n",
       "      <td>0.0</td>\n",
       "    </tr>\n",
       "    <tr>\n",
       "      <th>4</th>\n",
       "      <td>5</td>\n",
       "      <td>A</td>\n",
       "      <td>2020-01-01</td>\n",
       "      <td>0.0</td>\n",
       "    </tr>\n",
       "  </tbody>\n",
       "</table>\n",
       "</div>"
      ],
      "text/plain": [
       "   id variant          dt  spend_usd\n",
       "0   1       A  2020-01-01        0.0\n",
       "1   2       A  2020-01-01        0.0\n",
       "2   3       A  2020-01-01        0.0\n",
       "3   4       A  2020-01-01        0.0\n",
       "4   5       A  2020-01-01        0.0"
      ]
     },
     "execution_count": 12,
     "metadata": {},
     "output_type": "execute_result"
    }
   ],
   "source": [
    "results_df.head()"
   ]
  },
  {
   "cell_type": "markdown",
   "id": "a920663c-2353-4f3d-992a-477989ee6d23",
   "metadata": {},
   "source": [
    "# 2. Pre-process"
   ]
  },
  {
   "cell_type": "code",
   "execution_count": 17,
   "id": "8d1ffec8-eb6c-4b5c-b6b3-2888f95ff425",
   "metadata": {},
   "outputs": [],
   "source": [
    "def check_data(df):\n",
    "    # Generates a concise summary of DataFrame columns.\n",
    "    \n",
    "    # We use list comprehension to iterate over each column\n",
    "    summary = [\n",
    "        [col, df[col].dtype, df[col].count(), df[col].nunique(), df[col].isnull().sum(), df.duplicated().sum()]\n",
    "        for col in df.columns\n",
    "    ]\n",
    "    # Create a DataFrame from the list of lists\n",
    "    df_check = pd.DataFrame(summary, columns=[\"column\", \"dtype\", \"instances\", \"unique\", \"sum_null\", \"duplicates\"])\n",
    "\n",
    "    return df_check"
   ]
  },
  {
   "cell_type": "markdown",
   "id": "048466a8-227f-4313-ad05-993eee78f8da",
   "metadata": {},
   "source": [
    "# 3. Analyse"
   ]
  },
  {
   "cell_type": "markdown",
   "id": "5f3b5da7-f31e-4927-9273-5e15348aea37",
   "metadata": {},
   "source": [
    "## 3.1 EDA"
   ]
  },
  {
   "cell_type": "code",
   "execution_count": 52,
   "id": "6f1f73ff-9879-4244-b5f1-8eb83f14a04d",
   "metadata": {},
   "outputs": [
    {
     "data": {
      "text/html": [
       "<div>\n",
       "<style scoped>\n",
       "    .dataframe tbody tr th:only-of-type {\n",
       "        vertical-align: middle;\n",
       "    }\n",
       "\n",
       "    .dataframe tbody tr th {\n",
       "        vertical-align: top;\n",
       "    }\n",
       "\n",
       "    .dataframe thead th {\n",
       "        text-align: right;\n",
       "    }\n",
       "</style>\n",
       "<table border=\"1\" class=\"dataframe\">\n",
       "  <thead>\n",
       "    <tr style=\"text-align: right;\">\n",
       "      <th></th>\n",
       "      <th>id</th>\n",
       "      <th>variant</th>\n",
       "      <th>dt</th>\n",
       "      <th>spend_usd</th>\n",
       "    </tr>\n",
       "  </thead>\n",
       "  <tbody>\n",
       "    <tr>\n",
       "      <th>0</th>\n",
       "      <td>1</td>\n",
       "      <td>A</td>\n",
       "      <td>2020-01-01</td>\n",
       "      <td>0.0</td>\n",
       "    </tr>\n",
       "    <tr>\n",
       "      <th>1</th>\n",
       "      <td>2</td>\n",
       "      <td>A</td>\n",
       "      <td>2020-01-01</td>\n",
       "      <td>0.0</td>\n",
       "    </tr>\n",
       "    <tr>\n",
       "      <th>2</th>\n",
       "      <td>3</td>\n",
       "      <td>A</td>\n",
       "      <td>2020-01-01</td>\n",
       "      <td>0.0</td>\n",
       "    </tr>\n",
       "    <tr>\n",
       "      <th>3</th>\n",
       "      <td>4</td>\n",
       "      <td>A</td>\n",
       "      <td>2020-01-01</td>\n",
       "      <td>0.0</td>\n",
       "    </tr>\n",
       "    <tr>\n",
       "      <th>4</th>\n",
       "      <td>5</td>\n",
       "      <td>A</td>\n",
       "      <td>2020-01-01</td>\n",
       "      <td>0.0</td>\n",
       "    </tr>\n",
       "  </tbody>\n",
       "</table>\n",
       "</div>"
      ],
      "text/plain": [
       "   id variant          dt  spend_usd\n",
       "0   1       A  2020-01-01        0.0\n",
       "1   2       A  2020-01-01        0.0\n",
       "2   3       A  2020-01-01        0.0\n",
       "3   4       A  2020-01-01        0.0\n",
       "4   5       A  2020-01-01        0.0"
      ]
     },
     "execution_count": 52,
     "metadata": {},
     "output_type": "execute_result"
    }
   ],
   "source": [
    "results_df.head()"
   ]
  },
  {
   "cell_type": "code",
   "execution_count": 59,
   "id": "3bb90127-c4d0-494d-a1e9-fa3983d139e1",
   "metadata": {},
   "outputs": [
    {
     "name": "stdout",
     "output_type": "stream",
     "text": [
      "Checking data for variant A\n",
      "      column    dtype  instances  unique  sum_null  duplicates\n",
      "0         id    int64    2100000  100000         0           0\n",
      "1    variant   object    2100000       1         0           0\n",
      "2         dt   object    2100000      21         0           0\n",
      "3  spend_usd  float64    2100000  261255         0           0\n",
      "\n",
      "\n",
      "Checking data for variant B\n",
      "      column    dtype  instances  unique  sum_null  duplicates\n",
      "0         id    int64    2100000  100000         0           0\n",
      "1    variant   object    2100000       1         0           0\n",
      "2         dt   object    2100000      21         0           0\n",
      "3  spend_usd  float64    2100000  251214         0           0\n",
      "\n",
      "\n"
     ]
    }
   ],
   "source": [
    "for variant in results_df['variant'].unique().tolist():\n",
    "    print(f\"Checking data for variant {variant}\")\n",
    "    print(check_data(results_df[results_df['variant'] == variant]))\n",
    "    print(\"\\n\")"
   ]
  },
  {
   "cell_type": "code",
   "execution_count": 51,
   "id": "b7e93bf9-77f2-4b3f-a381-2577465f8e6b",
   "metadata": {},
   "outputs": [
    {
     "data": {
      "text/html": [
       "<div>\n",
       "<style scoped>\n",
       "    .dataframe tbody tr th:only-of-type {\n",
       "        vertical-align: middle;\n",
       "    }\n",
       "\n",
       "    .dataframe tbody tr th {\n",
       "        vertical-align: top;\n",
       "    }\n",
       "\n",
       "    .dataframe thead th {\n",
       "        text-align: right;\n",
       "    }\n",
       "</style>\n",
       "<table border=\"1\" class=\"dataframe\">\n",
       "  <thead>\n",
       "    <tr style=\"text-align: right;\">\n",
       "      <th></th>\n",
       "      <th>count</th>\n",
       "      <th>mean</th>\n",
       "      <th>std</th>\n",
       "      <th>min</th>\n",
       "      <th>25%</th>\n",
       "      <th>50%</th>\n",
       "      <th>75%</th>\n",
       "      <th>max</th>\n",
       "    </tr>\n",
       "    <tr>\n",
       "      <th>variant</th>\n",
       "      <th></th>\n",
       "      <th></th>\n",
       "      <th></th>\n",
       "      <th></th>\n",
       "      <th></th>\n",
       "      <th></th>\n",
       "      <th></th>\n",
       "      <th></th>\n",
       "    </tr>\n",
       "  </thead>\n",
       "  <tbody>\n",
       "    <tr>\n",
       "      <th>A</th>\n",
       "      <td>2100000.0</td>\n",
       "      <td>1.498369</td>\n",
       "      <td>3.590117</td>\n",
       "      <td>0.0</td>\n",
       "      <td>0.0</td>\n",
       "      <td>0.0</td>\n",
       "      <td>0.0</td>\n",
       "      <td>14.58588</td>\n",
       "    </tr>\n",
       "    <tr>\n",
       "      <th>B</th>\n",
       "      <td>2100000.0</td>\n",
       "      <td>1.678660</td>\n",
       "      <td>4.036659</td>\n",
       "      <td>0.0</td>\n",
       "      <td>0.0</td>\n",
       "      <td>0.0</td>\n",
       "      <td>0.0</td>\n",
       "      <td>16.85948</td>\n",
       "    </tr>\n",
       "  </tbody>\n",
       "</table>\n",
       "</div>"
      ],
      "text/plain": [
       "             count      mean       std  min  25%  50%  75%       max\n",
       "variant                                                             \n",
       "A        2100000.0  1.498369  3.590117  0.0  0.0  0.0  0.0  14.58588\n",
       "B        2100000.0  1.678660  4.036659  0.0  0.0  0.0  0.0  16.85948"
      ]
     },
     "execution_count": 51,
     "metadata": {},
     "output_type": "execute_result"
    }
   ],
   "source": [
    "results_df.groupby(by='variant')['spend_usd'].describe()"
   ]
  },
  {
   "cell_type": "code",
   "execution_count": 68,
   "id": "82ad97cf-f4d2-42e3-b5a5-56ce2a91bbac",
   "metadata": {},
   "outputs": [
    {
     "data": {
      "text/plain": [
       "variant\n",
       "A    3.146574e+06\n",
       "B    3.525187e+06\n",
       "Name: spend_usd, dtype: float64"
      ]
     },
     "execution_count": 68,
     "metadata": {},
     "output_type": "execute_result"
    }
   ],
   "source": [
    "results_df.groupby(by='variant')['spend_usd'].sum()"
   ]
  },
  {
   "cell_type": "code",
   "execution_count": 60,
   "id": "20d727eb-a7d5-442a-90f7-96b866fe6783",
   "metadata": {},
   "outputs": [
    {
     "name": "stderr",
     "output_type": "stream",
     "text": [
      "/opt/anaconda3/lib/python3.11/site-packages/seaborn/_oldcore.py:1119: FutureWarning: use_inf_as_na option is deprecated and will be removed in a future version. Convert inf values to NaN before operating instead.\n",
      "  with pd.option_context('mode.use_inf_as_na', True):\n",
      "/opt/anaconda3/lib/python3.11/site-packages/seaborn/_oldcore.py:1119: FutureWarning: use_inf_as_na option is deprecated and will be removed in a future version. Convert inf values to NaN before operating instead.\n",
      "  with pd.option_context('mode.use_inf_as_na', True):\n"
     ]
    },
    {
     "data": {
      "image/png": "[encoded data removed]",
      "text/plain": [
       "<Figure size 1000x600 with 1 Axes>"
      ]
     },
     "metadata": {},
     "output_type": "display_data"
    }
   ],
   "source": [
    "# Separate control and treatment groups\n",
    "control = results_df[results_df['variant'] == 'A']\n",
    "treatment = results_df[results_df['variant'] == 'B']\n",
    "\n",
    "# Plot histograms with KDE\n",
    "plt.figure(figsize=(10, 6))\n",
    "sns.histplot(control['spend_usd'], bins=30, kde=True, label='Control (A)', alpha=0.5)\n",
    "sns.histplot(treatment['spend_usd'], bins=30, kde=True, label='Treatment (B)', alpha=0.5)\n",
    "plt.xlabel('Spend')\n",
    "plt.ylabel('Frequency')\n",
    "plt.title('Distribution of Spend by Group')\n",
    "plt.legend(loc='upper right')\n",
    "plt.show()"
   ]
  },
  {
   "cell_type": "markdown",
   "id": "c0c941a3-9829-43d5-90c2-e6ad5570e4b6",
   "metadata": {},
   "source": [
    "**Observations**\n",
    "* The results are heavily skewed to the left, meaning most users involved in this experiment didn't make any purchases.\n",
    "* Since it is hard to tell much more from this graph, it may be good to visualize the histrograms by first excluding users who never converted"
   ]
  },
  {
   "cell_type": "code",
   "execution_count": 75,
   "id": "2b4db46d-4c4d-4aea-ae2e-3e0215437095",
   "metadata": {},
   "outputs": [
    {
     "name": "stderr",
     "output_type": "stream",
     "text": [
      "/opt/anaconda3/lib/python3.11/site-packages/seaborn/_oldcore.py:1119: FutureWarning: use_inf_as_na option is deprecated and will be removed in a future version. Convert inf values to NaN before operating instead.\n",
      "  with pd.option_context('mode.use_inf_as_na', True):\n",
      "/opt/anaconda3/lib/python3.11/site-packages/seaborn/_oldcore.py:1119: FutureWarning: use_inf_as_na option is deprecated and will be removed in a future version. Convert inf values to NaN before operating instead.\n",
      "  with pd.option_context('mode.use_inf_as_na', True):\n"
     ]
    },
    {
     "data": {
      "image/png": "[encoded data removed]",
      "text/plain": [
       "<Figure size 1000x600 with 1 Axes>"
      ]
     },
     "metadata": {},
     "output_type": "display_data"
    }
   ],
   "source": [
    "# Separate control and treatment groups\n",
    "control_non_zero = control[control['spend_usd'] > 0]\n",
    "treatment_non_zero = treatment[treatment['spend_usd'] > 0]\n",
    "\n",
    "# Plot histograms with KDE\n",
    "plt.figure(figsize=(10, 6))\n",
    "sns.histplot(control_non_zero['spend_usd'], bins=30, kde=True, label='Control (A)', alpha=0.5)\n",
    "sns.histplot(treatment_non_zero['spend_usd'], bins=30, kde=True, label='Treatment (B)', alpha=0.5)\n",
    "plt.xlabel('Spend')\n",
    "plt.ylabel('Frequency')\n",
    "plt.title(\"Distribution of Spend by Group (Non-zero Revenue)\")\n",
    "plt.legend(loc='upper right')\n",
    "plt.show()"
   ]
  },
  {
   "cell_type": "markdown",
   "id": "c9e5b511-01f3-49a5-8806-8deab92a5ced",
   "metadata": {},
   "source": [
    "**Observations:** In this visualization we can see more clearly that there is a difference between the means of the two groups"
   ]
  },
  {
   "cell_type": "code",
   "execution_count": 46,
   "id": "7d1c2930-653d-47e9-9312-82a5992bfcf0",
   "metadata": {},
   "outputs": [
    {
     "data": {
      "text/html": [
       "<div>\n",
       "<style scoped>\n",
       "    .dataframe tbody tr th:only-of-type {\n",
       "        vertical-align: middle;\n",
       "    }\n",
       "\n",
       "    .dataframe tbody tr th {\n",
       "        vertical-align: top;\n",
       "    }\n",
       "\n",
       "    .dataframe thead th {\n",
       "        text-align: right;\n",
       "    }\n",
       "</style>\n",
       "<table border=\"1\" class=\"dataframe\">\n",
       "  <thead>\n",
       "    <tr style=\"text-align: right;\">\n",
       "      <th>variant</th>\n",
       "      <th>A</th>\n",
       "      <th>B</th>\n",
       "    </tr>\n",
       "  </thead>\n",
       "  <tbody>\n",
       "    <tr>\n",
       "      <th>mean</th>\n",
       "      <td>1.498369</td>\n",
       "      <td>1.678660</td>\n",
       "    </tr>\n",
       "    <tr>\n",
       "      <th>median</th>\n",
       "      <td>0.000000</td>\n",
       "      <td>0.000000</td>\n",
       "    </tr>\n",
       "    <tr>\n",
       "      <th>std</th>\n",
       "      <td>3.590117</td>\n",
       "      <td>4.036659</td>\n",
       "    </tr>\n",
       "  </tbody>\n",
       "</table>\n",
       "</div>"
      ],
      "text/plain": [
       "variant         A         B\n",
       "mean     1.498369  1.678660\n",
       "median   0.000000  0.000000\n",
       "std      3.590117  4.036659"
      ]
     },
     "execution_count": 46,
     "metadata": {},
     "output_type": "execute_result"
    }
   ],
   "source": [
    "results_df.groupby(by='variant')['spend_usd'].agg(['mean', 'median', 'std']).transpose()"
   ]
  },
  {
   "cell_type": "markdown",
   "id": "61d051b3-465b-4b09-b0f8-a20629b8c49c",
   "metadata": {
    "jp-MarkdownHeadingCollapsed": true
   },
   "source": [
    "## 3.2 Hypothesis Testing "
   ]
  },
  {
   "cell_type": "code",
   "execution_count": 32,
   "id": "1fa8ac07-a408-466c-82d0-5c396ceb77dc",
   "metadata": {},
   "outputs": [
    {
     "name": "stdout",
     "output_type": "stream",
     "text": [
      "T-statistic: -48.36333891176516, P-value: 0.0\n"
     ]
    }
   ],
   "source": [
    "t_stat, p_val = stats.ttest_ind(control['spend_usd'], treatment['spend_usd'])\n",
    "print(f'T-statistic: {t_stat}, P-value: {p_val}')"
   ]
  },
  {
   "cell_type": "markdown",
   "id": "158b266a-341d-486d-beb0-dff8584cc4f0",
   "metadata": {},
   "source": [
    "**Observations:**\n",
    "\n",
    "- T-statistic: The large negative t-statistic (-48.36) suggests a significant difference between the means of the control and treatment groups. The negative sign simply indictes that the mean of the control group is lower than that of the treatment group.\n",
    "- P-value: Since this value is so low (0.0) it means that the observed difference is extremely unlikely to have occurred by chance.\n",
    "\n",
    "Overall, we can determine that the results statistically significant, which means the difference between the two groups didn't happen by chance, but instead we can confidently assume, the feature changes had an effect in the behavior of the users."
   ]
  },
  {
   "cell_type": "markdown",
   "id": "c9b00195-a354-4c41-bba0-ef43bc504971",
   "metadata": {
    "jp-MarkdownHeadingCollapsed": true
   },
   "source": [
    "## 3.3 Effect Size and Confidence Intervals"
   ]
  },
  {
   "cell_type": "markdown",
   "id": "fe7c32e1-0d02-4265-9dd4-509343a5e19b",
   "metadata": {},
   "source": [
    "### Effect Size"
   ]
  },
  {
   "cell_type": "code",
   "execution_count": 66,
   "id": "1957452b-7e7b-474a-8d0f-f65a75c380f5",
   "metadata": {},
   "outputs": [
    {
     "name": "stdout",
     "output_type": "stream",
     "text": [
      "Effect Size (Cohen's d): 0.047197785971348674\n"
     ]
    }
   ],
   "source": [
    "# Calculate the pooled standard deviation\n",
    "control_std = control['spend_usd'].std()\n",
    "treatment_std = treatment['spend_usd'].std()\n",
    "pooled_std = np.sqrt((control_std**2 + treatment_std**2) / 2)\n",
    "\n",
    "# Calculate the effect size\n",
    "effect_size = (treatment['spend_usd'].mean() - control['spend_usd'].mean()) / pooled_std\n",
    "print(f'Effect Size (Cohen\\'s d): {effect_size}')"
   ]
  },
  {
   "cell_type": "code",
   "execution_count": 67,
   "id": "3c239789-0eb1-4d6b-83e2-58385b7b6ec0",
   "metadata": {},
   "outputs": [
    {
     "name": "stdout",
     "output_type": "stream",
     "text": [
      "Effect size is very small or negligible\n"
     ]
    }
   ],
   "source": [
    "# Interpretation of Cohen's d\n",
    "if abs(effect_size) < 0.2:\n",
    "    print(\"Effect size is very small or negligible\")\n",
    "elif abs(effect_size) < 0.5:\n",
    "    print(\"Effect size is small\")\n",
    "elif abs(effect_size) < 0.8:\n",
    "    print(\"Effect size is medium\")\n",
    "else:\n",
    "    print(\"Effect size is large\")"
   ]
  },
  {
   "cell_type": "markdown",
   "id": "dc7ce1e6-bebf-405e-b7e9-0f69b3576b62",
   "metadata": {},
   "source": [
    "**Observations:** The effect size (Cohen's d) is very small or negligible (0.04) which suggests that while the difference is statistically significant, the magnitude of the difference is very small. In practical terms, the new feature has a negligible impact on revenue."
   ]
  },
  {
   "cell_type": "markdown",
   "id": "9da7fa57-3b0a-4ea4-b14a-e577f5d2b813",
   "metadata": {},
   "source": [
    "### Confidence Intervals"
   ]
  },
  {
   "cell_type": "code",
   "execution_count": 69,
   "id": "38787b3c-0d77-4b5f-81b1-5eb5ef63e4d7",
   "metadata": {},
   "outputs": [
    {
     "name": "stdout",
     "output_type": "stream",
     "text": [
      "95% Confidence Interval for Control Group: (1.4935130721375702, 1.5032243714699072)\n",
      "95% Confidence Interval for Treatment Group: (1.6732008287915086, 1.6841200268070178)\n"
     ]
    }
   ],
   "source": [
    "# Confidence intervals for control group\n",
    "conf_int_control = stats.t.interval(0.95, len(control)-1, loc=np.mean(control['spend_usd']), scale=stats.sem(control['spend_usd']))\n",
    "print(f'95% Confidence Interval for Control Group: {conf_int_control}')\n",
    "\n",
    "# Confidence intervals for treatment group\n",
    "conf_int_treatment = stats.t.interval(0.95, len(treatment)-1, loc=np.mean(treatment['spend_usd']), scale=stats.sem(treatment['spend_usd']))\n",
    "print(f'95% Confidence Interval for Treatment Group: {conf_int_treatment}')"
   ]
  },
  {
   "cell_type": "markdown",
   "id": "03b40f0a-3397-415a-a87f-2deffce4126f",
   "metadata": {},
   "source": [
    "**Observations:** The fact that the confidence intervals for the control and treatment groups do not overlap indicates that there is a statistically significant difference between the mean revenues of the two groups."
   ]
  },
  {
   "cell_type": "markdown",
   "id": "42cb5822-7e99-49eb-92e7-89e8b51fafda",
   "metadata": {
    "jp-MarkdownHeadingCollapsed": true
   },
   "source": [
    "## 3.4 Results and Conclusion"
   ]
  },
  {
   "cell_type": "markdown",
   "id": "851eec2c-689b-4efe-9884-276c004c8833",
   "metadata": {},
   "source": [
    "From these results we can determine that although the new feature introduced to group B did influence more users to convert, the impact was very small which implies that although introducing the new feature will make a difference in increasing revenue, it may not make practical sense to do so. \n",
    "\n",
    "**Potential Next Steps:**\n",
    "- Consider the business context: A very small increase in revenue might not justify the costs or efforts of implementing the new feature.\n",
    "- Look at other metrics: It would be good to consider other metrics (e.g., user engagement, satisfaction) to get a more comprehensive view of the feature's impact.\n",
    "- Segment Analysis: Perform segmentation analysis to see if the effect is more pronounced in certain user groups."
   ]
  },
  {
   "cell_type": "code",
   "execution_count": null,
   "id": "b0129cf6-c931-410d-a6bb-55d6c3ed4e80",
   "metadata": {},
   "outputs": [],
   "source": []
  }
 ],
 "metadata": {
  "kernelspec": {
   "display_name": "Python 3 (ipykernel)",
   "language": "python",
   "name": "python3"
  },
  "language_info": {
   "codemirror_mode": {
    "name": "ipython",
    "version": 3
   },
   "file_extension": ".py",
   "mimetype": "text/x-python",
   "name": "python",
   "nbconvert_exporter": "python",
   "pygments_lexer": "ipython3",
   "version": "3.11.7"
  }
 },
 "nbformat": 4,
 "nbformat_minor": 5
}
